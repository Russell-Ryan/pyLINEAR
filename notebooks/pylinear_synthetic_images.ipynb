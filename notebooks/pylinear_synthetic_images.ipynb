{
 "cells": [
  {
   "cell_type": "markdown",
   "metadata": {},
   "source": [
    "# Synthetic Direct Images\n",
    "\n",
    "This notebook creates a synthetic direct image and segmentation map suitable for testing of ```pyLINEAR```.  This uses ```astropy.modeling``` to create parametric sources and ```skimage.morphology``` to determine the segmentation IDs.  \n",
    "\n",
    "### Notebook was prepared by Russell Ryan Jul. 23, 2020\n"
   ]
  },
  {
   "cell_type": "code",
   "execution_count": 1,
   "metadata": {},
   "outputs": [],
   "source": [
    "from astropy.io import fits            # to write the fits files\n",
    "import numpy as np                     # for general computations\n",
    "from astropy import wcs                # for the WCS of the output images\n",
    "from astropy.modeling import models    # to create parametric models\n",
    "from skimage.morphology import label   # to segment the image\n",
    "import matplotlib.pyplot as plt        # to visualize "
   ]
  },
  {
   "cell_type": "code",
   "execution_count": 2,
   "metadata": {},
   "outputs": [],
   "source": [
    "segfile = 'seg.fits'         # name of output segmentation map\n",
    "imgfile = 'img.fits'         # name of output direct image\n",
    "crval = [53.0,-27.0]         # RA,Dec center of nominal field\n",
    "pixscl = 0.060               # pixel scale (arcsec/pix) of segmentation & image\n",
    "size = (1000,1000)           # size (pixels) of output images"
   ]
  },
  {
   "cell_type": "code",
   "execution_count": 3,
   "metadata": {},
   "outputs": [],
   "source": [
    "# create a grid of (x,y) pairs for the images\n",
    "x,y = np.meshgrid(np.arange(size[0]), np.arange(size[1]))"
   ]
  },
  {
   "cell_type": "code",
   "execution_count": 4,
   "metadata": {},
   "outputs": [],
   "source": [
    "# create the output image\n",
    "img = np.zeros(size)"
   ]
  },
  {
   "cell_type": "code",
   "execution_count": 5,
   "metadata": {},
   "outputs": [],
   "source": [
    "# create a bunch of sources\n",
    "func = models.Gaussian2D(x_stddev = 1.5, y_stddev = 1.5)   # start with basic Gaussian\n",
    "\n",
    "# do first source\n",
    "func.x_mean,func.y_mean = 500,500      # put it at the center\n",
    "func.amplitude = 2.0                   # make it pretty bright\n",
    "img += func(x,y)                       # evaluate the model\n",
    "\n",
    "# do second source\n",
    "func.x_mean,func.y_mean = 520,500      # offset it in x\n",
    "func.amplitude = 1.0                   # make a tad fainter\n",
    "img += func(x,y)                       # evaluate the model\n",
    "\n",
    "# do third source\n",
    "func.x_mean,func.y_mean = 420,550      # put it all by itself\n",
    "func.amplitude = 0.5                   # make it fainter still\n",
    "img += func(x,y)                       # evaluate the model"
   ]
  },
  {
   "cell_type": "code",
   "execution_count": 6,
   "metadata": {},
   "outputs": [],
   "source": [
    "# create a segmentation map from this image\n",
    "threshold = 0.2                       # threshold to apply to the image\n",
    "good = img > threshold                # these pixels belong to a source\n",
    "seg = label(good)                     # now these pixels have unique segmentation IDs"
   ]
  },
  {
   "cell_type": "code",
   "execution_count": 7,
   "metadata": {},
   "outputs": [],
   "source": [
    "# create a WCS for the image and segmentation\n",
    "w = wcs.WCS(naxis=2)                  # the WCS object\n",
    "w.wcs.crpix = [size[0]/2,size[1]/2]   # put the CRPIX at the center of the image\n",
    "w.wcs.crval = crval                   # set the RA,Dec of the center\n",
    "w.wcs.ctype = ['RA---TAN','DEC--TAN'] # use RA,Dec projection\n",
    "p = pixscl/3600.                      # change units from arcsec/pix to deg/pix\n",
    "w.wcs.cd = [[-p,0.],[0.,p]]           # set the CD matrix; the neg sign makes E-left\n",
    "\n",
    "# put the WCS into a fits header\n",
    "hdr = w.to_header()"
   ]
  },
  {
   "cell_type": "code",
   "execution_count": 8,
   "metadata": {},
   "outputs": [
    {
     "data": {
      "image/png": "[encoded data removed]",
      "text/plain": [
       "<Figure size 720x720 with 2 Axes>"
      ]
     },
     "metadata": {
      "needs_background": "light"
     },
     "output_type": "display_data"
    }
   ],
   "source": [
    "# let's just visualize the images, since we made them\n",
    "\n",
    "# set the bounding box for where we will zoom to\n",
    "xmin,xmax = 400,550\n",
    "ymin,ymax = 450,600\n",
    "\n",
    "# create a plot window\n",
    "fig,(p1,p2) = plt.subplots(1,2,figsize=(10,10),sharex=True,sharey=True)\n",
    "#fig,(p3,p4) = plt.subplots(1,2,figsize=(10,10),sharex=True,sharey=True)\n",
    "\n",
    "# show the direct image on left, and segmentation on the right\n",
    "p1.imshow(img,origin='lower',vmin=-0.05,vmax=0.7)\n",
    "p2.imshow(seg,origin='lower',vmin=0,vmax=3)\n",
    "\n",
    "# zoom to an interesting region\n",
    "_ = p1.set_xlim(xmin,xmax)\n",
    "_ = p1.set_ylim(ymin,ymax)\n",
    "_ = p2.set_xlim(xmin,xmax)\n",
    "_ = p2.set_ylim(ymin,ymax)\n",
    "\n"
   ]
  },
  {
   "cell_type": "code",
   "execution_count": 9,
   "metadata": {},
   "outputs": [],
   "source": [
    "# write the images to disk\n",
    "fits.writeto(segfile,seg,header=hdr,overwrite=True) # write the segmap\n",
    "fits.writeto(imgfile,img,header=hdr,overwrite=True) # write the image\n",
    "\n",
    "# note, we're using the same header here, but one could put separate data in the \n",
    "#       the headers.  This was just a short-cut to ensure the WCS was the same\n",
    "#       pyLINEAR will throw an error if the WCS for seg and img do not match."
   ]
  },
  {
   "cell_type": "code",
   "execution_count": null,
   "metadata": {},
   "outputs": [],
   "source": []
  }
 ],
 "metadata": {
  "kernelspec": {
   "display_name": "Python 3",
   "language": "python",
   "name": "python3"
  },
  "language_info": {
   "codemirror_mode": {
    "name": "ipython",
    "version": 3
   },
   "file_extension": ".py",
   "mimetype": "text/x-python",
   "name": "python",
   "nbconvert_exporter": "python",
   "pygments_lexer": "ipython3",
   "version": "3.7.7"
  }
 },
 "nbformat": 4,
 "nbformat_minor": 4
}
